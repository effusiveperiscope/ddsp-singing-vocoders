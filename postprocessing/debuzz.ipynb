{
 "cells": [
  {
   "cell_type": "code",
   "execution_count": 1,
   "metadata": {},
   "outputs": [],
   "source": [
    "%matplotlib inline\n",
    "\n",
    "import os\n",
    "import glob\n",
    "import numpy as np\n",
    "import parselmouth\n",
    "import soundfile as sf\n",
    "import matplotlib.pyplot as plt"
   ]
  },
  {
   "cell_type": "code",
   "execution_count": 2,
   "metadata": {},
   "outputs": [],
   "source": [
    "# paths\n",
    "path_rootdir = './test-set'\n",
    "\n",
    "path_pred_dir = os.path.join(path_rootdir, 'pred')\n",
    "path_part_dir = os.path.join(path_rootdir, 'part')\n",
    "path_outdir   = os.path.join(path_rootdir, 'debuzz')"
   ]
  },
  {
   "cell_type": "code",
   "execution_count": 3,
   "metadata": {},
   "outputs": [],
   "source": [
    "# --- hyperparameters --- #\n",
    "# for pitch detection\n",
    "pitch_time_step = 0.005\n",
    "pitch_floor = 60\n",
    "max_candidates = 15\n",
    "very_accurate = False\n",
    "silence_thresh = 0.03\n",
    "voicing_thresh = 0.8 #higher is fewer unvoiced intervals\n",
    "octave_cost = 0.01\n",
    "oct_jump_cost = 0.35\n",
    "vuv_cost = 0.14\n",
    "pitch_ceiling = 600.0\n",
    "max_period = 0.02\n",
    "\n",
    "# for summing\n",
    "fade_length = 100 # fade length in samples. This avoids discontinuities\n",
    "\n",
    "def apodize(values, minidx, maxidx, length):\n",
    "    values[minidx-length:minidx] *= np.linspace(1.0,0.0,length)\n",
    "    values[minidx:maxidx] = 0.0\n",
    "    values[maxidx:maxidx+length] *= np.linspace(0.0,1.0,length)"
   ]
  },
  {
   "cell_type": "code",
   "execution_count": null,
   "metadata": {},
   "outputs": [
    {
     "name": "stdout",
     "output_type": "stream",
     "text": [
      " num files: 3\n",
      "---0/3-------------------------\n",
      " > pred:            ./test-set/pred/f1_142.wav\n",
      " > pred (harmonic): ./test-set/parts/f1_142-harmonic.wav\n",
      " > pred (noise):    ./test-set/parts/f1_142-noise.wav\n",
      " > outfile:         ./test-set/debuzz/f1_142.wav\n",
      "---1/3-------------------------\n",
      " > pred:            ./test-set/pred/f1_037.wav\n",
      " > pred (harmonic): ./test-set/parts/f1_037-harmonic.wav\n",
      " > pred (noise):    ./test-set/parts/f1_037-noise.wav\n",
      " > outfile:         ./test-set/debuzz/f1_037.wav\n"
     ]
    }
   ],
   "source": [
    "filelist = glob.glob(os.path.join(path_pred_dir, '*.wav'))\n",
    "num_files = len(filelist)\n",
    "print(' num files:', num_files)\n",
    "\n",
    "for fidx in range(num_files):\n",
    "    print(f'---{fidx}/{num_files}-------------------------')\n",
    "    bn = os.path.basename(filelist[fidx])\n",
    "    \n",
    "    # paths\n",
    "    path_pred          = os.path.join(path_pred_dir, bn)\n",
    "    path_harmonic = os.path.join(path_part_dir, bn).replace('.wav', '-harmonic.wav')\n",
    "    path_noise    = os.path.join(path_part_dir, bn).replace('.wav', '-noise.wav')\n",
    "    path_outfile       = os.path.join(path_outdir, bn) \n",
    "    \n",
    "    print(' > pred:           ', path_pred)\n",
    "    print(' > pred (harmonic):', path_harmonic)\n",
    "    print(' > pred (noise):   ', path_noise)\n",
    "    print(' > outfile:        ', path_outfile)\n",
    "    \n",
    "    # load wave\n",
    "    wave_pred = parselmouth.Sound(path_pred)\n",
    "    wave_harmonic = parselmouth.Sound(path_harmonic)\n",
    "    wave_noise = parselmouth.Sound(path_noise)\n",
    "    \n",
    "    # detect UV (unvoiced) intervals\n",
    "    pitch = wave_pred.to_pitch_ac(\n",
    "        pitch_time_step, \n",
    "        pitch_floor,\n",
    "        max_candidates,\n",
    "        very_accurate,\n",
    "        silence_thresh,\n",
    "        voicing_thresh,\n",
    "        octave_cost,\n",
    "        oct_jump_cost,\n",
    "        vuv_cost,\n",
    "        pitch_ceiling)\n",
    "    pitch_values = pitch.selected_array['frequency']\n",
    "    pitch_values[pitch_values==0] = np.nan\n",
    "    UV_Indices = np.argwhere(np.isnan(pitch_values)).flatten()\n",
    "    \n",
    "    # apply mask on harmonic signal during UV intervals\n",
    "    step = int(pitch_time_step/2 * wave_harmonic.sampling_frequency) + 1\n",
    "    for index in UV_Indices:\n",
    "        h_index = (np.abs(wave_harmonic.xs() - pitch.xs()[index])).argmin() # upsample f0 to sample level\n",
    "        apodize(wave_harmonic.values[0], h_index-step, h_index+step, length=fade_length)\n",
    "\n",
    "    # the first and last 0.25 seconds don't have pitch detection, so mute these\n",
    "    trim = int(wave_harmonic.sampling_frequency * 0.25)+1\n",
    "    wave_harmonic.values[0][:trim] = 0\n",
    "    wave_harmonic.values[0][-trim:] = 0\n",
    "    \n",
    "    # combine harmonic and noise signals\n",
    "    wave_final = wave_harmonic.values + wave_noise.values\n",
    "    \n",
    "    # save\n",
    "    os.makedirs(os.path.dirname(path_outfile), exist_ok=True)\n",
    "    sf.write(path_outfile, np.squeeze(wave_final), int(wave_harmonic.sampling_frequency))"
   ]
  }
 ],
 "metadata": {
  "kernelspec": {
   "display_name": "Python 3",
   "language": "python",
   "name": "python3"
  },
  "language_info": {
   "codemirror_mode": {
    "name": "ipython",
    "version": 3
   },
   "file_extension": ".py",
   "mimetype": "text/x-python",
   "name": "python",
   "nbconvert_exporter": "python",
   "pygments_lexer": "ipython3",
   "version": "3.7.3"
  }
 },
 "nbformat": 4,
 "nbformat_minor": 4
}
